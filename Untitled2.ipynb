{
  "nbformat": 4,
  "nbformat_minor": 0,
  "metadata": {
    "colab": {
      "provenance": []
    },
    "kernelspec": {
      "name": "python3",
      "display_name": "Python 3"
    },
    "language_info": {
      "name": "python"
    }
  },
  "cells": [
    {
      "cell_type": "code",
      "execution_count": 2,
      "metadata": {
        "colab": {
          "base_uri": "https://localhost:8080/"
        },
        "id": "ZwF8MT--CWzg",
        "outputId": "2618ee2f-2f4b-4369-f22b-ec16cbc7c22a"
      },
      "outputs": [
        {
          "output_type": "stream",
          "name": "stdout",
          "text": [
            "Looking in indexes: https://pypi.org/simple, https://us-python.pkg.dev/colab-wheels/public/simple/\n",
            "Collecting pysam\n",
            "  Downloading pysam-0.20.0-cp39-cp39-manylinux_2_24_x86_64.whl (15.6 MB)\n",
            "\u001b[2K     \u001b[90m━━━━━━━━━━━━━━━━━━━━━━━━━━━━━━━━━━━━━━━━\u001b[0m \u001b[32m15.6/15.6 MB\u001b[0m \u001b[31m65.6 MB/s\u001b[0m eta \u001b[36m0:00:00\u001b[0m\n",
            "\u001b[?25hInstalling collected packages: pysam\n",
            "Successfully installed pysam-0.20.0\n"
          ]
        }
      ],
      "source": [
        "!pip install pysam"
      ]
    },
    {
      "cell_type": "code",
      "source": [
        "import pysam"
      ],
      "metadata": {
        "id": "NYZq1VVWHe5s"
      },
      "execution_count": 3,
      "outputs": []
    },
    {
      "cell_type": "code",
      "source": [
        "bamFile= pysam.AlignmentFile(\"/content/merged-tumor.bam\")\n",
        "#Take the first read in file\n",
        "flag=1\n",
        "for first in bamFile:\n",
        "  if flag==1:\n",
        "    break\n",
        "\n",
        " #Inspect the flag field\n",
        "print(\"Flag field for first read:\")\n",
        "print(first.flag)\n",
        "\n",
        "  \n",
        "#Inspect the fields in the AlignedSegment\n",
        "print(\"Query name:\")\n",
        "print(first.query_name)\n",
        "print(\"Query sequence:\"); \n",
        "print(first.query_sequence)\n",
        "print(\"Reference id:\");\n",
        "print(first.reference_id)\n",
        "print(\"Reference start:\");\n",
        "print(first.reference_start)\n",
        "print(\"Mapping quality:\"); \n",
        "print(first.mapping_quality)\n",
        "print(\"Cigar:\"); \n",
        "print(first.cigar)\n",
        "print(\"Next reference id:\"); \n",
        "print(first.next_reference_id)\n",
        "print(\"Next reference start:\"); \n",
        "print(first.next_reference_start)\n",
        "print(\"Template length:\"); \n",
        "print(first.template_length)\n",
        "print(\"Query qualities:\"); \n",
        "print(first.query_qualities)\n",
        "print(\"Tags:\"); \n",
        "print(first.tags)\n",
        "print(\"Is unmapped: \")\n",
        "print(first.is_unmapped)\n",
        "\n",
        "cnt=0\n",
        "for checkFlag in bamFile:\n",
        "  cnt=cnt+1\n",
        "  print(\"Inspection of flag field for some reads\")\n",
        "  print(\"Flag:\")\n",
        "  print(checkFlag.flag)\n",
        "  if cnt==5:\n",
        "    break\n",
        "\n",
        "    \n",
        "#Meaning of flags:\n",
        "# flag     read paired    read mapped in proper pair    mate reverse strand    second in pair   first in pair   read is PCR or optical duplicate\n",
        "#1187      0x1            0x2                           0x20                   0x80                             0x400\n",
        "#163       0x1            0x2                           0x20                   0x80\n",
        "#99        0x1            0x2                           0x20                                    0x40            \n",
        "\n",
        "\n",
        "  \n",
        "bamFile.close()"
      ],
      "metadata": {
        "colab": {
          "base_uri": "https://localhost:8080/"
        },
        "id": "Lsh_D8M3NB1x",
        "outputId": "0288ce63-8c05-422f-86f4-35ec498b969b"
      },
      "execution_count": 16,
      "outputs": [
        {
          "output_type": "stream",
          "name": "stdout",
          "text": [
            "Flag field for first read:\n",
            "1187\n",
            "Query name:\n",
            "C0HVYACXX120402:7:1207:5722:57044\n",
            "Query sequence:\n",
            "TTTTCAAACAGTATCTATGCCTGCCAAATGTGAACATATAAAAAAAAACCAGAATGTGCCATTCTGATTTAAACTG\n",
            "Reference id:\n",
            "20\n",
            "Reference start:\n",
            "9483248\n",
            "Mapping quality:\n",
            "27\n",
            "Cigar:\n",
            "[(0, 76)]\n",
            "Next reference id:\n",
            "20\n",
            "Next reference start:\n",
            "9483381\n",
            "Template length:\n",
            "209\n",
            "Query qualities:\n",
            "array('B', [28, 28, 27, 29, 31, 30, 31, 31, 29, 31, 35, 30, 29, 31, 34, 30, 29, 23, 41, 32, 20, 30, 29, 34, 34, 29, 30, 31, 30, 30, 30, 33, 33, 26, 39, 12, 25, 19, 32, 30, 35, 28, 35, 33, 23, 33, 35, 36, 30, 38, 33, 41, 34, 35, 31, 33, 23, 30, 30, 36, 27, 32, 29, 34, 35, 41, 33, 31, 33, 29, 32, 32, 31, 31, 31, 34])\n",
            "Tags:\n",
            "[('XA', 'GL000217.1,-110754,76M,1;'), ('BD', 'NNNNNNNNNNNNNNNNNNNNNNNNNNNNNNNNNNNNNNNNNNNNNNNNNNNNNNNNNNNNNNNNNNNNNNNNNNNN'), ('MD', '76'), ('RG', '1'), ('BI', 'NNNNNNNNNNNNNNNNNNNNNNNNNNNNNNNNNNNNNNNNNNNNNNNNNNNNNNNNNNNNNNNNNNNNNNNNNNNN'), ('NM', 0), ('MQ', 27), ('AS', 76), ('XS', 71)]\n",
            "Is unmapped: \n",
            "False\n",
            "Inspection of flag field for some reads\n",
            "Flag:\n",
            "163\n",
            "Inspection of flag field for some reads\n",
            "Flag:\n",
            "99\n",
            "Inspection of flag field for some reads\n",
            "Flag:\n",
            "99\n",
            "Inspection of flag field for some reads\n",
            "Flag:\n",
            "99\n",
            "Inspection of flag field for some reads\n",
            "Flag:\n",
            "163\n"
          ]
        }
      ]
    },
    {
      "cell_type": "code",
      "source": [
        "#Calculation\n",
        "\n",
        "bamFile=pysam.AlignmentFile(\"/content/merged-tumor.bam\")\n",
        "unmappedReads=0\n",
        "totalReads=0\n",
        "numMapQ0=0\n",
        "avgMapQ=0\n",
        "avgMapQFilter=0\n",
        "for read in bamFile:\n",
        "    totalReads=totalReads+1\n",
        "    avgMapQ=avgMapQ+read.mapping_quality\n",
        "\n",
        "    if read.is_unmapped:\n",
        "      unmappedReads=unmappedReads+1\n",
        "     \n",
        "\n",
        "    if read.mapping_quality==0:\n",
        "      numMapQ0=numMapQ0+1\n",
        "    else:\n",
        "      avgMapQFilter=avgMapQFilter+read.mapping_quality\n",
        "\n",
        "\n",
        "\n",
        "if totalReads>0:\n",
        "    avgMapQ=avgMapQ/totalReads\n",
        "if totalReads-numMapQ0>0:\n",
        "    avgMapQFilter=avgMapQFilter/(totalReads-numMapQ0)\n",
        "\n",
        "print(\"Number of unmapped reads in the file:\")\n",
        "print(unmappedReads)\n",
        "print(\"Total number of reads:\")\n",
        "print(totalReads)\n",
        "print(\"Number of reads with mapping quality 0:\")\n",
        "print(numMapQ0)\n",
        "print(\"Average mapping quality for all the reads:\")\n",
        "print(avgMapQ)\n",
        "print(\"Average mapping quality if reads with 0 mapp quality are filtered out:\")\n",
        "print(avgMapQFilter)"
      ],
      "metadata": {
        "colab": {
          "base_uri": "https://localhost:8080/"
        },
        "id": "0uW06OReHgsM",
        "outputId": "bca5e35b-54f6-48ff-eb55-51c3d0f63753"
      },
      "execution_count": 17,
      "outputs": [
        {
          "output_type": "stream",
          "name": "stdout",
          "text": [
            "Number of unmapped reads in the file:\n",
            "17765\n",
            "Total number of reads:\n",
            "2921629\n",
            "Number of reads with mapping quality 0:\n",
            "126628\n",
            "Average mapping quality for all the reads:\n",
            "55.91379158681681\n",
            "Average mapping quality if reads with 0 mapp quality are filtered out:\n",
            "58.446975510921106\n"
          ]
        }
      ]
    }
  ]
}